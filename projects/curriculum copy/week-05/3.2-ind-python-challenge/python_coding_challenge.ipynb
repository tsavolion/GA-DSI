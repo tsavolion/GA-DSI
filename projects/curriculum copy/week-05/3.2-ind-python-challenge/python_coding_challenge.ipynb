{
 "cells": [
  {
   "cell_type": "markdown",
   "metadata": {},
   "source": [
    "<img src=\"https://ga-dash.s3.amazonaws.com/production/assets/logo-9f88ae6c9c3871690e33280fcf557f33.png\" style=\"float: left; margin: 10px\">\n",
    "\n",
    "\n",
    "\n",
    "# Individual Coding Challenge\n",
    "Week 5 | Day 3\n",
    "\n",
    "There are a series of exercises in this notebook that you will need to perform. This challenge to be done individually - without help from either fellow students or the instructors. You are free to use the documention or any online resources you choose. You will have one hour to complete this workbook. If you get stuck on one question keep moving.\n",
    "\n",
    "It must be submitted before 11.30 AM via a Slack DM or email to me (@winston / winston.featherly-bean@ga.co). \n",
    "\n",
    "#### - NO LATE ENTRIES WILL BE ACCEPTED - \n",
    "\n",
    "The Slack timestamp of submission will be definitive."
   ]
  },
  {
   "cell_type": "markdown",
   "metadata": {},
   "source": [
    "### 1. Without using any external libraries (e.g. numpy, pandas), create a list of integers at least 10 elements long and calculate: a) the mean, b) the standard deviation"
   ]
  },
  {
   "cell_type": "code",
   "execution_count": 16,
   "metadata": {
    "collapsed": false
   },
   "outputs": [],
   "source": [
    "lint = [ 1, 2, 3, 4, 5, 6, 7, 8, 9, 10, 11]"
   ]
  },
  {
   "cell_type": "code",
   "execution_count": 17,
   "metadata": {
    "collapsed": false
   },
   "outputs": [
    {
     "name": "stdout",
     "output_type": "stream",
     "text": [
      "The Mean is \n",
      "6.0\n"
     ]
    }
   ],
   "source": [
    "#a\n",
    "print(\"The Mean is \")\n",
    "mnlint = sum(lint)/len(lint)\n",
    "print(mnlint)"
   ]
  },
  {
   "cell_type": "code",
   "execution_count": 18,
   "metadata": {
    "collapsed": true
   },
   "outputs": [],
   "source": [
    "#b*** COME BACK\n",
    "def SD(lint):\n",
    "    def singleSD(lint):\n",
    "      cntlint=len(lint)\n",
    "      sumN=0\n",
    "      for i in lint:\n",
    "          sumN+=i\n",
    "      avgVal=float(sumN)/float(cntlint)\n",
    "      sumVar=0.0\n",
    "      for i in range(cntlint):\n",
    "          sumVar+=float((lint[i]-avgVal)**2)\n",
    "      return ((float(sumVar)/float((cntlint-1)))**0.5)\n",
    "    return [singleSD(l) for l in lint]    "
   ]
  },
  {
   "cell_type": "code",
   "execution_count": 20,
   "metadata": {
    "collapsed": false
   },
   "outputs": [
    {
     "ename": "AttributeError",
     "evalue": "'list' object has no attribute 'SD'",
     "output_type": "error",
     "traceback": [
      "\u001b[0;31m---------------------------------------------------------------------------\u001b[0m",
      "\u001b[0;31mAttributeError\u001b[0m                            Traceback (most recent call last)",
      "\u001b[0;32m<ipython-input-20-098abff14488>\u001b[0m in \u001b[0;36m<module>\u001b[0;34m()\u001b[0m\n\u001b[0;32m----> 1\u001b[0;31m \u001b[0mlint\u001b[0m\u001b[0;34m.\u001b[0m\u001b[0mSD\u001b[0m\u001b[0;34m(\u001b[0m\u001b[0;34m)\u001b[0m\u001b[0;34m\u001b[0m\u001b[0m\n\u001b[0m",
      "\u001b[0;31mAttributeError\u001b[0m: 'list' object has no attribute 'SD'"
     ]
    }
   ],
   "source": []
  },
  {
   "cell_type": "markdown",
   "metadata": {},
   "source": [
    "### 2. Write code that prompts the user for a name, then returns the associated phone number from this dictionary:\n",
    "\n",
    "\n",
    "`{\"Jerry\" : \"212-555-3015\",\n",
    "\"Elaine\" : \"212-683-5555\",\n",
    "\"Kramer\" : \"212-555-0804\",\n",
    "\"George\" : \"646-111-0000\",\n",
    "\"Newman\" : \"917-666-6666\"\n",
    "}`\n",
    "\n",
    "E.g. you should see an output like:\n",
    "\n",
    "`Who do you want to call? Jerry\n",
    "212-555-3015`"
   ]
  },
  {
   "cell_type": "code",
   "execution_count": 22,
   "metadata": {
    "collapsed": false
   },
   "outputs": [],
   "source": [
    "friends = {\"Jerry\" : \"212-555-3015\",\"Elaine\" : \"212-683-5555\",\"Kramer\" : \"212-555-0804\",\"George\" : \"646-111-0000\",\\\n",
    "\"Newman\" : \"917-666-6666\"}"
   ]
  },
  {
   "cell_type": "code",
   "execution_count": 25,
   "metadata": {
    "collapsed": false
   },
   "outputs": [
    {
     "name": "stdout",
     "output_type": "stream",
     "text": [
      "Who do you want to call? \n",
      "Jerry\n"
     ]
    }
   ],
   "source": [
    "print('Who do you want to call? ')\n",
    "poi = input()"
   ]
  },
  {
   "cell_type": "code",
   "execution_count": 47,
   "metadata": {
    "collapsed": false
   },
   "outputs": [
    {
     "ename": "SyntaxError",
     "evalue": "invalid syntax (<ipython-input-47-f8e888dd87ed>, line 1)",
     "output_type": "error",
     "traceback": [
      "\u001b[0;36m  File \u001b[0;32m\"<ipython-input-47-f8e888dd87ed>\"\u001b[0;36m, line \u001b[0;32m1\u001b[0m\n\u001b[0;31m    friends[k for k in friends if input = in friends]\u001b[0m\n\u001b[0m                ^\u001b[0m\n\u001b[0;31mSyntaxError\u001b[0m\u001b[0;31m:\u001b[0m invalid syntax\n"
     ]
    }
   ],
   "source": [
    "#### COME BACK\n",
    "\n",
    "friends[k for k in friends if input = in friends]"
   ]
  },
  {
   "cell_type": "markdown",
   "metadata": {},
   "source": [
    "### 3. Define a function that accepts a string, converts its alphabetical characters to lower case, removes trailing or leading whitespace, and returns the result.\n",
    "\n",
    "E.g. `\"hello this is a test   \"` should return `['hello', 'this', 'is', 'a', 'test']`"
   ]
  },
  {
   "cell_type": "code",
   "execution_count": 48,
   "metadata": {
    "collapsed": false
   },
   "outputs": [
    {
     "name": "stdout",
     "output_type": "stream",
     "text": [
      "String goes here \n",
      "hello this is a test\n"
     ]
    }
   ],
   "source": [
    "print(\"String goes here \")\n",
    "dat = input()"
   ]
  },
  {
   "cell_type": "code",
   "execution_count": 52,
   "metadata": {
    "collapsed": false
   },
   "outputs": [
    {
     "data": {
      "text/plain": [
       "str"
      ]
     },
     "execution_count": 52,
     "metadata": {},
     "output_type": "execute_result"
    }
   ],
   "source": [
    "type(dat)"
   ]
  },
  {
   "cell_type": "code",
   "execution_count": 62,
   "metadata": {
    "collapsed": false
   },
   "outputs": [],
   "source": [
    "def split_dat(dat):\n",
    "    words = dat.split()\n",
    "    for word in words:\n",
    "        print(word)"
   ]
  },
  {
   "cell_type": "code",
   "execution_count": 114,
   "metadata": {
    "collapsed": false
   },
   "outputs": [
    {
     "name": "stdout",
     "output_type": "stream",
     "text": [
      "hello\n",
      "this\n",
      "is\n",
      "a\n",
      "test\n"
     ]
    }
   ],
   "source": [
    "split_dat(dat)"
   ]
  },
  {
   "cell_type": "markdown",
   "metadata": {},
   "source": [
    "### 4. Write a program that prints the numbers from 1 to 100. But for multiples of three print “Buzz” instead of the number and for the multiples of five print \"Fizz”. For numbers which are multiples of both three and five print “BuzzFizz” \n",
    "\n",
    "For example, the numbers 8-15 look like: ... 8 Buzz 9 Fizz 11 Buzz 13 14 BuzzFizz ..."
   ]
  },
  {
   "cell_type": "code",
   "execution_count": 128,
   "metadata": {
    "collapsed": false
   },
   "outputs": [
    {
     "name": "stdout",
     "output_type": "stream",
     "text": [
      "Buzz\n",
      "1\n",
      "2\n",
      "Buzz\n",
      "4\n",
      "5\n",
      "Buzz\n",
      "7\n",
      "8\n",
      "Buzz\n",
      "10\n",
      "11\n",
      "Buzz\n",
      "13\n",
      "14\n",
      "Buzz\n",
      "16\n",
      "17\n",
      "Buzz\n",
      "19\n",
      "20\n",
      "Buzz\n",
      "22\n",
      "23\n",
      "Buzz\n",
      "25\n",
      "26\n",
      "Buzz\n",
      "28\n",
      "29\n",
      "Buzz\n",
      "31\n",
      "32\n",
      "Buzz\n",
      "34\n",
      "35\n",
      "Buzz\n",
      "37\n",
      "38\n",
      "Buzz\n",
      "40\n",
      "41\n",
      "Buzz\n",
      "43\n",
      "44\n",
      "Buzz\n",
      "46\n",
      "47\n",
      "Buzz\n",
      "49\n",
      "50\n",
      "Buzz\n",
      "52\n",
      "53\n",
      "Buzz\n",
      "55\n",
      "56\n",
      "Buzz\n",
      "58\n",
      "59\n",
      "Buzz\n",
      "61\n",
      "62\n",
      "Buzz\n",
      "64\n",
      "65\n",
      "Buzz\n",
      "67\n",
      "68\n",
      "Buzz\n",
      "70\n",
      "71\n",
      "Buzz\n",
      "73\n",
      "74\n",
      "Buzz\n",
      "76\n",
      "77\n",
      "Buzz\n",
      "79\n",
      "80\n",
      "Buzz\n",
      "82\n",
      "83\n",
      "Buzz\n",
      "85\n",
      "86\n",
      "Buzz\n",
      "88\n",
      "89\n",
      "Buzz\n",
      "91\n",
      "92\n",
      "Buzz\n",
      "94\n",
      "95\n",
      "Buzz\n",
      "97\n",
      "98\n",
      "Buzz\n"
     ]
    }
   ],
   "source": [
    "for number in range(0, 100):\n",
    "    if number % 3 != 0:\n",
    "        print(number)\n",
    "    if number % 3 == 0:\n",
    "            print(\"Buzz\")"
   ]
  },
  {
   "cell_type": "markdown",
   "metadata": {},
   "source": [
    "### 5. Using the `requests` library and a for- or while- loop, send 5 HTTP GET requests to google.com (or another site of your choice). For each result, select the value of the 'Date' header and split its elements into a list. Print the `hour:minute:second` elements of these lists.\n",
    "\n",
    "E.g.:\n",
    "\n",
    "`\n",
    "13:35:11\n",
    "13:35:12\n",
    "13:35:12\n",
    "13:35:12\n",
    "13:35:12\n",
    "`"
   ]
  },
  {
   "cell_type": "code",
   "execution_count": 142,
   "metadata": {
    "collapsed": false
   },
   "outputs": [
    {
     "name": "stdout",
     "output_type": "stream",
     "text": [
      "{'Cache-Control': 'private, max-age=0', 'Date': 'Wed, 19 Oct 2016 15:33:29 GMT', 'Server': 'gws', 'P3P': 'CP=\"This is not a P3P policy! See https://www.google.com/support/accounts/answer/151657?hl=en for more info.\"', 'Expires': '-1', 'Alt-Svc': 'quic=\":443\"; ma=2592000; v=\"36,35,34,33,32\"', 'Transfer-Encoding': 'chunked', 'Set-Cookie': 'NID=89=Qukr-6EpmAlNprR-KMqzcMMYuB-jN5mBTQuSgR_Svn7LHo6pkzaqNkaxBZmixFrUXomUc-C-JaHL4tS8HNLh7OX1YBbeD52U0FMHfGlNJKzc1c4DVyVuooUlFrg1ri_GVMln9UhvimedRkU; expires=Thu, 20-Apr-2017 15:33:29 GMT; path=/; domain=.google.com; HttpOnly', 'Content-Type': 'text/html; charset=ISO-8859-1', 'Content-Encoding': 'gzip', 'X-XSS-Protection': '1; mode=block', 'X-Frame-Options': 'SAMEORIGIN'}\n"
     ]
    }
   ],
   "source": [
    "from lxml import html\n",
    "import requests\n",
    "r = requests.get(\"https://www.google.com/\")\n",
    "words = r.headers\n",
    "print(words)"
   ]
  },
  {
   "cell_type": "code",
   "execution_count": 147,
   "metadata": {
    "collapsed": false
   },
   "outputs": [],
   "source": [
    "date = words['Date']"
   ]
  },
  {
   "cell_type": "code",
   "execution_count": 148,
   "metadata": {
    "collapsed": false
   },
   "outputs": [
    {
     "data": {
      "text/plain": [
       "'Wed, 19 Oct 2016 15:33:29 GMT'"
      ]
     },
     "execution_count": 148,
     "metadata": {},
     "output_type": "execute_result"
    }
   ],
   "source": [
    "date"
   ]
  },
  {
   "cell_type": "markdown",
   "metadata": {},
   "source": [
    "### 6. Define a function that prints out a box of x,y dimensions using the '-' and '|' characters\n",
    "E.g. if your function gets the inputs x=3, y =2, it should print out:\n",
    "\n",
    "```\n",
    "---\n",
    "| |\n",
    "| |\n",
    "---\n",
    "```"
   ]
  },
  {
   "cell_type": "code",
   "execution_count": null,
   "metadata": {
    "collapsed": false
   },
   "outputs": [],
   "source": []
  },
  {
   "cell_type": "markdown",
   "metadata": {},
   "source": [
    "### 7. Write a function that returns the value at any (column, row) location of [Pascal's triangle](https://en.wikipedia.org/wiki/Pascal%27s_triangle) (not easy!).\n",
    "\n",
    "E.g. pascal(1,2) would return 2 from the structure. Note that this is 0-indexed:\n",
    "\n",
    "\n",
    "```\n",
    "     1\n",
    "    1 1\n",
    "   1 2 1\n",
    "  1 3 3 1\n",
    " 1 4 6 4 1\n",
    "```\n",
    " \n",
    "Explain your solution with comments in the code.\n",
    " "
   ]
  },
  {
   "cell_type": "code",
   "execution_count": null,
   "metadata": {
    "collapsed": false
   },
   "outputs": [],
   "source": []
  }
 ],
 "metadata": {
  "kernelspec": {
   "display_name": "Python [Root]",
   "language": "python",
   "name": "Python [Root]"
  },
  "language_info": {
   "codemirror_mode": {
    "name": "ipython",
    "version": 3
   },
   "file_extension": ".py",
   "mimetype": "text/x-python",
   "name": "python",
   "nbconvert_exporter": "python",
   "pygments_lexer": "ipython3",
   "version": "3.5.2"
  }
 },
 "nbformat": 4,
 "nbformat_minor": 0
}
