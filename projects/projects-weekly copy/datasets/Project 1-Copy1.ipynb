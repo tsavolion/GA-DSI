{
 "cells": [
  {
   "cell_type": "code",
   "execution_count": 3,
   "metadata": {
    "collapsed": true
   },
   "outputs": [],
   "source": [
    "import numpy as np\n",
    "import scipy.stats as stats\n",
    "import csv\n",
    "import seaborn as sns\n",
    "%matplotlib inline\n",
    "sat_scores_path = '/Users/supermaxfederman/DSI-NYC-2/projects/projects-weekly/project-01/assets/sat_scores.csv'"
   ]
  },
  {
   "cell_type": "code",
   "execution_count": 8,
   "metadata": {
    "collapsed": true
   },
   "outputs": [],
   "source": [
    "### 1. Data shows all States SAT scores for Math and Verbal and their rate. \n",
    "### 2. Unclear what the \"Rate\" is referring to\n",
    "### 3. State refers to the State where tests are being taken, Rate (I assume) refers to the percentage of \n",
    "### students taking the SAT in that State, Verbal refers to average SAT Verbal section score of students in\n",
    "### in that state, and Math refers to the average SAT Math section score of students in that state."
   ]
  },
  {
   "cell_type": "code",
   "execution_count": 10,
   "metadata": {
    "collapsed": false
   },
   "outputs": [
    {
     "name": "stdout",
     "output_type": "stream",
     "text": [
      "['State', 'Rate', 'Verbal', 'Math']\n"
     ]
    }
   ],
   "source": [
    "rows = []\n",
    "\n",
    "with open(sat_scores_path, 'r') as f:\n",
    "    reader = csv.reader(f)\n",
    "    for row in reader:\n",
    "        rows.append(row)\n",
    "header = rows[0]\n",
    "data = rows[1:]\n",
    "print(header)"
   ]
  },
  {
   "cell_type": "code",
   "execution_count": 14,
   "metadata": {
    "collapsed": false
   },
   "outputs": [],
   "source": [
    "sat_data = {}\n",
    "for index, column_name in enumerate(header):\n",
    "    sat_data[column_name]=[]\n",
    "    for row in data:\n",
    "        sat_data[column_name].append(row[index])"
   ]
  },
  {
   "cell_type": "code",
   "execution_count": 79,
   "metadata": {
    "collapsed": false
   },
   "outputs": [],
   "source": [
    "states = sat_data['State'][0:50]\n",
    "rates = sat_data['Rate'][0:50]\n",
    "verbs = sat_data['Verbal'][0:50]\n",
    "maths = sat_data['Math'][0:50]"
   ]
  },
  {
   "cell_type": "code",
   "execution_count": 16,
   "metadata": {
    "collapsed": false
   },
   "outputs": [
    {
     "ename": "KeyError",
     "evalue": "<class 'str'>",
     "output_type": "error",
     "traceback": [
      "\u001b[0;31m---------------------------------------------------------------------------\u001b[0m",
      "\u001b[0;31mKeyError\u001b[0m                                  Traceback (most recent call last)",
      "\u001b[0;32m<ipython-input-16-694383528259>\u001b[0m in \u001b[0;36m<module>\u001b[0;34m()\u001b[0m\n\u001b[0;32m----> 1\u001b[0;31m \u001b[0msat_data\u001b[0m\u001b[0;34m[\u001b[0m\u001b[0mtype\u001b[0m\u001b[0;34m(\u001b[0m\u001b[0;34m'State'\u001b[0m\u001b[0;34m)\u001b[0m\u001b[0;34m]\u001b[0m\u001b[0;34m\u001b[0m\u001b[0m\n\u001b[0m",
      "\u001b[0;31mKeyError\u001b[0m: <class 'str'>"
     ]
    }
   ],
   "source": [
    "sat_data[type('State')]"
   ]
  },
  {
   "cell_type": "code",
   "execution_count": 17,
   "metadata": {
    "collapsed": false
   },
   "outputs": [
    {
     "name": "stdout",
     "output_type": "stream",
     "text": [
      "{'Rate': ['82', '81', '79', '77', '72', '71', '71', '69', '69', '68', '67', '65', '65', '63', '60', '57', '56', '55', '54', '53', '53', '52', '51', '51', '34', '33', '31', '26', '23', '18', '17', '13', '13', '12', '12', '11', '11', '9', '9', '9', '8', '8', '8', '7', '6', '6', '5', '5', '4', '4', '4', '45'], 'Math': ['510', '513', '515', '505', '516', '499', '499', '506', '500', '501', '499', '510', '499', '489', '501', '488', '474', '526', '499', '527', '499', '515', '510', '517', '525', '515', '542', '439', '539', '512', '542', '553', '542', '589', '550', '545', '572', '589', '580', '554', '568', '561', '577', '562', '596', '550', '570', '603', '582', '599', '551', '514'], 'State': ['CT', 'NJ', 'MA', 'NY', 'NH', 'RI', 'PA', 'VT', 'ME', 'VA', 'DE', 'MD', 'NC', 'GA', 'IN', 'SC', 'DC', 'OR', 'FL', 'WA', 'TX', 'HI', 'AK', 'CA', 'AZ', 'NV', 'CO', 'OH', 'MT', 'WV', 'ID', 'TN', 'NM', 'IL', 'KY', 'WY', 'MI', 'MN', 'KS', 'AL', 'NE', 'OK', 'MO', 'LA', 'WI', 'AR', 'UT', 'IA', 'SD', 'ND', 'MS', 'All'], 'Verbal': ['509', '499', '511', '495', '520', '501', '500', '511', '506', '510', '501', '508', '493', '491', '499', '486', '482', '526', '498', '527', '493', '485', '514', '498', '523', '509', '539', '534', '539', '527', '543', '562', '551', '576', '550', '547', '561', '580', '577', '559', '562', '567', '577', '564', '584', '562', '575', '593', '577', '592', '566', '506']}\n"
     ]
    }
   ],
   "source": [
    "### 4/5\n",
    "print(sat_data) "
   ]
  },
  {
   "cell_type": "code",
   "execution_count": 20,
   "metadata": {
    "collapsed": false
   },
   "outputs": [
    {
     "name": "stdout",
     "output_type": "stream",
     "text": [
      "[['CT', '82', '509', '510'], ['NJ', '81', '499', '513'], ['MA', '79', '511', '515'], ['NY', '77', '495', '505'], ['NH', '72', '520', '516'], ['RI', '71', '501', '499'], ['PA', '71', '500', '499'], ['VT', '69', '511', '506'], ['ME', '69', '506', '500'], ['VA', '68', '510', '501'], ['DE', '67', '501', '499'], ['MD', '65', '508', '510'], ['NC', '65', '493', '499'], ['GA', '63', '491', '489'], ['IN', '60', '499', '501'], ['SC', '57', '486', '488'], ['DC', '56', '482', '474'], ['OR', '55', '526', '526'], ['FL', '54', '498', '499'], ['WA', '53', '527', '527'], ['TX', '53', '493', '499'], ['HI', '52', '485', '515'], ['AK', '51', '514', '510'], ['CA', '51', '498', '517'], ['AZ', '34', '523', '525'], ['NV', '33', '509', '515'], ['CO', '31', '539', '542'], ['OH', '26', '534', '439'], ['MT', '23', '539', '539'], ['WV', '18', '527', '512'], ['ID', '17', '543', '542'], ['TN', '13', '562', '553'], ['NM', '13', '551', '542'], ['IL', '12', '576', '589'], ['KY', '12', '550', '550'], ['WY', '11', '547', '545'], ['MI', '11', '561', '572'], ['MN', '9', '580', '589'], ['KS', '9', '577', '580'], ['AL', '9', '559', '554'], ['NE', '8', '562', '568'], ['OK', '8', '567', '561'], ['MO', '8', '577', '577'], ['LA', '7', '564', '562'], ['WI', '6', '584', '596'], ['AR', '6', '562', '550'], ['UT', '5', '575', '570'], ['IA', '5', '593', '603'], ['SD', '4', '577', '582'], ['ND', '4', '592', '599'], ['MS', '4', '566', '551'], ['All', '45', '506', '514']]\n"
     ]
    }
   ],
   "source": [
    "### 6\n",
    "print(data) "
   ]
  },
  {
   "cell_type": "code",
   "execution_count": 92,
   "metadata": {
    "collapsed": false
   },
   "outputs": [
    {
     "data": {
      "text/plain": [
       "['CT',\n",
       " 'NJ',\n",
       " 'MA',\n",
       " 'NY',\n",
       " 'NH',\n",
       " 'RI',\n",
       " 'PA',\n",
       " 'VT',\n",
       " 'ME',\n",
       " 'VA',\n",
       " 'DE',\n",
       " 'MD',\n",
       " 'NC',\n",
       " 'GA',\n",
       " 'IN',\n",
       " 'SC',\n",
       " 'DC',\n",
       " 'OR',\n",
       " 'FL',\n",
       " 'WA',\n",
       " 'TX',\n",
       " 'HI',\n",
       " 'AK',\n",
       " 'CA',\n",
       " 'AZ',\n",
       " 'NV',\n",
       " 'CO',\n",
       " 'OH',\n",
       " 'MT',\n",
       " 'WV',\n",
       " 'ID',\n",
       " 'TN',\n",
       " 'NM',\n",
       " 'IL',\n",
       " 'KY',\n",
       " 'WY',\n",
       " 'MI',\n",
       " 'MN',\n",
       " 'KS',\n",
       " 'AL',\n",
       " 'NE',\n",
       " 'OK',\n",
       " 'MO',\n",
       " 'LA',\n",
       " 'WI',\n",
       " 'AR',\n",
       " 'UT',\n",
       " 'IA',\n",
       " 'SD',\n",
       " 'ND']"
      ]
     },
     "execution_count": 92,
     "metadata": {},
     "output_type": "execute_result"
    }
   ],
   "source": [
    "### 7\n",
    "states"
   ]
  },
  {
   "cell_type": "code",
   "execution_count": 98,
   "metadata": {
    "collapsed": false
   },
   "outputs": [
    {
     "ename": "SyntaxError",
     "evalue": "invalid syntax (<ipython-input-98-35c39efaa70e>, line 2)",
     "output_type": "error",
     "traceback": [
      "\u001b[0;36m  File \u001b[0;32m\"<ipython-input-98-35c39efaa70e>\"\u001b[0;36m, line \u001b[0;32m2\u001b[0m\n\u001b[0;31m    class states\u001b[0m\n\u001b[0m                ^\u001b[0m\n\u001b[0;31mSyntaxError\u001b[0m\u001b[0;31m:\u001b[0m invalid syntax\n"
     ]
    }
   ],
   "source": [
    "### 8 \n",
    " states"
   ]
  },
  {
   "cell_type": "code",
   "execution_count": 99,
   "metadata": {
    "collapsed": false
   },
   "outputs": [
    {
     "data": {
      "text/plain": [
       "['82',\n",
       " '81',\n",
       " '79',\n",
       " '77',\n",
       " '72',\n",
       " '71',\n",
       " '71',\n",
       " '69',\n",
       " '69',\n",
       " '68',\n",
       " '67',\n",
       " '65',\n",
       " '65',\n",
       " '63',\n",
       " '60',\n",
       " '57',\n",
       " '56',\n",
       " '55',\n",
       " '54',\n",
       " '53',\n",
       " '53',\n",
       " '52',\n",
       " '51',\n",
       " '51',\n",
       " '34',\n",
       " '33',\n",
       " '31',\n",
       " '26',\n",
       " '23',\n",
       " '18',\n",
       " '17',\n",
       " '13',\n",
       " '13',\n",
       " '12',\n",
       " '12',\n",
       " '11',\n",
       " '11',\n",
       " '9',\n",
       " '9',\n",
       " '9',\n",
       " '8',\n",
       " '8',\n",
       " '8',\n",
       " '7',\n",
       " '6',\n",
       " '6',\n",
       " '5',\n",
       " '5',\n",
       " '4',\n",
       " '4']"
      ]
     },
     "execution_count": 99,
     "metadata": {},
     "output_type": "execute_result"
    }
   ],
   "source": [
    "rates"
   ]
  },
  {
   "cell_type": "code",
   "execution_count": 100,
   "metadata": {
    "collapsed": false
   },
   "outputs": [
    {
     "data": {
      "text/plain": [
       "['509',\n",
       " '499',\n",
       " '511',\n",
       " '495',\n",
       " '520',\n",
       " '501',\n",
       " '500',\n",
       " '511',\n",
       " '506',\n",
       " '510',\n",
       " '501',\n",
       " '508',\n",
       " '493',\n",
       " '491',\n",
       " '499',\n",
       " '486',\n",
       " '482',\n",
       " '526',\n",
       " '498',\n",
       " '527',\n",
       " '493',\n",
       " '485',\n",
       " '514',\n",
       " '498',\n",
       " '523',\n",
       " '509',\n",
       " '539',\n",
       " '534',\n",
       " '539',\n",
       " '527',\n",
       " '543',\n",
       " '562',\n",
       " '551',\n",
       " '576',\n",
       " '550',\n",
       " '547',\n",
       " '561',\n",
       " '580',\n",
       " '577',\n",
       " '559',\n",
       " '562',\n",
       " '567',\n",
       " '577',\n",
       " '564',\n",
       " '584',\n",
       " '562',\n",
       " '575',\n",
       " '593',\n",
       " '577',\n",
       " '592']"
      ]
     },
     "execution_count": 100,
     "metadata": {},
     "output_type": "execute_result"
    }
   ],
   "source": [
    "verbs"
   ]
  },
  {
   "cell_type": "code",
   "execution_count": 101,
   "metadata": {
    "collapsed": false
   },
   "outputs": [
    {
     "data": {
      "text/plain": [
       "['510',\n",
       " '513',\n",
       " '515',\n",
       " '505',\n",
       " '516',\n",
       " '499',\n",
       " '499',\n",
       " '506',\n",
       " '500',\n",
       " '501',\n",
       " '499',\n",
       " '510',\n",
       " '499',\n",
       " '489',\n",
       " '501',\n",
       " '488',\n",
       " '474',\n",
       " '526',\n",
       " '499',\n",
       " '527',\n",
       " '499',\n",
       " '515',\n",
       " '510',\n",
       " '517',\n",
       " '525',\n",
       " '515',\n",
       " '542',\n",
       " '439',\n",
       " '539',\n",
       " '512',\n",
       " '542',\n",
       " '553',\n",
       " '542',\n",
       " '589',\n",
       " '550',\n",
       " '545',\n",
       " '572',\n",
       " '589',\n",
       " '580',\n",
       " '554',\n",
       " '568',\n",
       " '561',\n",
       " '577',\n",
       " '562',\n",
       " '596',\n",
       " '550',\n",
       " '570',\n",
       " '603',\n",
       " '582',\n",
       " '599']"
      ]
     },
     "execution_count": 101,
     "metadata": {},
     "output_type": "execute_result"
    }
   ],
   "source": [
    "maths"
   ]
  },
  {
   "cell_type": "code",
   "execution_count": 105,
   "metadata": {
    "collapsed": false
   },
   "outputs": [
    {
     "data": {
      "text/plain": [
       "str"
      ]
     },
     "execution_count": 105,
     "metadata": {},
     "output_type": "execute_result"
    }
   ],
   "source": [
    "### 9 (reassign some to int's if they are strings...)\n",
    "type(sat_data['Rate'][40])"
   ]
  },
  {
   "cell_type": "code",
   "execution_count": null,
   "metadata": {
    "collapsed": true
   },
   "outputs": [],
   "source": [
    "### 10"
   ]
  },
  {
   "cell_type": "code",
   "execution_count": 72,
   "metadata": {
    "collapsed": false
   },
   "outputs": [
    {
     "name": "stdout",
     "output_type": "stream",
     "text": [
      "The Min of Rate is 11\n",
      "The Max of Rate is 9\n"
     ]
    }
   ],
   "source": [
    "### 12 print max and min of each column (fix Rate)\n",
    "rate_min = min(sat_data['Rate'][0:50])\n",
    "rate_max = max(sat_data['Rate'][0:50])\n",
    "print(\"The Min of Rate is \"+ rate_min)\n",
    "print(\"The Max of Rate is \"+ rate_max)"
   ]
  },
  {
   "cell_type": "code",
   "execution_count": 70,
   "metadata": {
    "collapsed": false
   },
   "outputs": [
    {
     "name": "stdout",
     "output_type": "stream",
     "text": [
      "The Min of Verbal is 482\n",
      "The Max of Verbal is 593\n"
     ]
    }
   ],
   "source": [
    "verb_min = min(sat_data['Verbal'][0:50])\n",
    "verb_max = max(sat_data['Verbal'][0:50])\n",
    "print(\"The Min of Verbal is \"+ str(verb_min))\n",
    "print(\"The Max of Verbal is \"+ str(verb_max))"
   ]
  },
  {
   "cell_type": "code",
   "execution_count": 71,
   "metadata": {
    "collapsed": false
   },
   "outputs": [
    {
     "name": "stdout",
     "output_type": "stream",
     "text": [
      "The Min of Math is 439\n",
      "The Max of Math is 603\n"
     ]
    }
   ],
   "source": [
    "math_min = min(sat_data['Math'][0:50])\n",
    "math_max = max(sat_data['Math'][0:50])\n",
    "print(\"The Min of Math is \"+ str(math_min))\n",
    "print(\"The Max of Math is \"+ str(math_max))"
   ]
  },
  {
   "cell_type": "code",
   "execution_count": null,
   "metadata": {
    "collapsed": false
   },
   "outputs": [],
   "source": []
  },
  {
   "cell_type": "code",
   "execution_count": null,
   "metadata": {
    "collapsed": true
   },
   "outputs": [],
   "source": []
  }
 ],
 "metadata": {
  "anaconda-cloud": {},
  "kernelspec": {
   "display_name": "Python [Root]",
   "language": "python",
   "name": "Python [Root]"
  },
  "language_info": {
   "codemirror_mode": {
    "name": "ipython",
    "version": 3
   },
   "file_extension": ".py",
   "mimetype": "text/x-python",
   "name": "python",
   "nbconvert_exporter": "python",
   "pygments_lexer": "ipython3",
   "version": "3.5.2"
  }
 },
 "nbformat": 4,
 "nbformat_minor": 0
}
