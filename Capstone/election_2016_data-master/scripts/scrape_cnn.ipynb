{
 "cells": [
  {
   "cell_type": "code",
   "execution_count": 1,
   "metadata": {
    "collapsed": false
   },
   "outputs": [
    {
     "name": "stdout",
     "output_type": "stream",
     "text": [
      "3.4.5 |Anaconda 4.1.1 (64-bit)| (default, Jul  5 2016, 14:53:07) [MSC v.1600 64 bit (AMD64)]\n"
     ]
    }
   ],
   "source": [
    "# CNN, exit polls\n",
    "import requests\n",
    "from bs4 import BeautifulSoup\n",
    "import re\n",
    "from selenium import webdriver\n",
    "from selenium.webdriver.support.ui import Select\n",
    "import time\n",
    "import os\n",
    "import numpy as np\n",
    "import pandas as pd\n",
    "import pandas as pd\n",
    "import json\n",
    "import traceback\n",
    "\n",
    "import sys\n",
    "print(sys.version)"
   ]
  },
  {
   "cell_type": "code",
   "execution_count": 26,
   "metadata": {
    "collapsed": false
   },
   "outputs": [],
   "source": [
    "# get lists of paths to use with requests\n",
    "paths = []\n",
    "d = webdriver.Chrome()\n",
    "d.implicitly_wait(10)\n",
    "d.get('http://www.cnn.com/election/results/exit-polls')\n",
    "xpath_state = '//*[@id=\"mount\"]/div/main/div/section[1]/div/div[1]/section/div/div[1]/div[1]/select'\n",
    "xpath_type = '//*[@id=\"mount\"]/div/main/div/section[1]/div/div[1]/section/div/div[1]/div[2]/select'\n",
    "el_state = d.find_element_by_xpath(xpath_state)\n",
    "options_state = [x.get_attribute('value') for x in el_state.find_elements_by_tag_name(\"option\")]\n",
    "texts_state = [x.get_attribute('text') for x in el_state.find_elements_by_tag_name(\"option\")]\n",
    "for state, state_text in zip(options_state, texts_state):\n",
    "    s_state = Select(d.find_element_by_xpath(xpath_state))\n",
    "    s_state.select_by_value(state)\n",
    "    time.sleep(5)\n",
    "    el_type = d.find_element_by_xpath(xpath_type)\n",
    "    options_type = [x.get_attribute('text') for x in el_type.find_elements_by_tag_name(\"option\")]\n",
    "    for type_ in options_type:\n",
    "        paths.append([state_text, type_])\n",
    "d.quit()"
   ]
  },
  {
   "cell_type": "code",
   "execution_count": 28,
   "metadata": {
    "collapsed": false
   },
   "outputs": [],
   "source": [
    "with open('cnn_paths', 'w+') as f:\n",
    "    f.write(json.dumps(paths))"
   ]
  },
  {
   "cell_type": "code",
   "execution_count": 40,
   "metadata": {
    "collapsed": true
   },
   "outputs": [],
   "source": [
    "for p1, p2 in paths:\n",
    "    driver = webdriver.Chrome()\n",
    "    driver.implicitly_wait(10)\n",
    "    driver.get('http://www.cnn.com/election/results/exit-polls/{}/{}'.format(p1.lower(), p2.lower()))\n",
    "    time.sleep(10)\n",
    "    driver.execute_script(\"window.scrollTo(0, document.body.scrollHeight);\")\n",
    "    time.sleep(5)\n",
    "    outerhtml = driver.execute_script(\"return document.documentElement.outerHTML\")\n",
    "    fn = p1+'_'+p2+'.html'\n",
    "    with open(fn, 'w+', encoding='utf-8') as f:\n",
    "        f.write(outerhtml)"
   ]
  },
  {
   "cell_type": "code",
   "execution_count": 103,
   "metadata": {
    "collapsed": false
   },
   "outputs": [],
   "source": [
    "results = []\n",
    "for state, section in paths:\n",
    "    with open(state+'_'+section+'.html', 'r') as f:\n",
    "        html = f.read()\n",
    "    soup = BeautifulSoup(html, 'lxml')\n",
    "    frames = soup.find_all('div', attrs={'class': 'exit-poll-table'})\n",
    "    for i, frame in enumerate(frames):\n",
    "        question = frame.find_all('h3', attrs={'class': 'exit-poll__question'})[0].text\n",
    "        respondents = frame.find_all('div', attrs={'class': 'exit-poll-table__metadata'})[0].text\n",
    "        respondents = re.search('(\\d+) respondents', respondents).group(1)\n",
    "        respondents = int(respondents)\n",
    "        divisions = []\n",
    "        for th in frame.find_all('th', attrs={'class': \"exit-poll__cell--header\"}):\n",
    "            if 'exit-poll__cell--answer' not in th.attrs['class']:\n",
    "                divisions.append(th.attrs['data-lname'])\n",
    "        tbody = frame.find_all('tbody')[0]\n",
    "        for tr in tbody.find_all('tr'):\n",
    "            answer = tr.find_all('td', attrs={'class': 'exit-poll__cell exit-poll__cell--answer'})[0].contents[1]\n",
    "            pct_answer = tr.find_all('span', attrs={'class': 'exit-poll__answer-pct-value'})[0].contents[0]\n",
    "            if pct_answer == 'N/A':\n",
    "                pct_answer = None\n",
    "            else:\n",
    "                pct_answer = float(pct_answer.replace('%', ''))\n",
    "            n = 0\n",
    "            for cell in tr.find_all('td', attrs={'class': 'exit-poll__cell'}):\n",
    "                if 'exit-poll__cell--answer' not in cell.attrs['class']:\n",
    "                    pct = cell.contents[0]\n",
    "                    if pct == 'N/A':\n",
    "                        pct = None\n",
    "                    else:\n",
    "                        pct = float(pct.replace('%', ''))\n",
    "                    results.append({'state': state, 'election': section, 'question_number': i, 'question': question,\n",
    "                      'answer': answer, 'answer_pct': pct_answer, 'vote_group': divisions[n], 'cell_pct': pct})\n",
    "                    n += 1\n",
    "            assert n == len(divisions)\n"
   ]
  },
  {
   "cell_type": "code",
   "execution_count": 104,
   "metadata": {
    "collapsed": false
   },
   "outputs": [],
   "source": [
    "import pandas as pd\n",
    "df = pd.DataFrame(results)"
   ]
  },
  {
   "cell_type": "code",
   "execution_count": 106,
   "metadata": {
    "collapsed": false
   },
   "outputs": [],
   "source": [
    "df.to_csv('USA_election_2016_exit_polls_cnn.csv', index=False)"
   ]
  },
  {
   "cell_type": "code",
   "execution_count": null,
   "metadata": {
    "collapsed": true
   },
   "outputs": [],
   "source": []
  }
 ],
 "metadata": {
  "kernelspec": {
   "display_name": "Python [py34]",
   "language": "python",
   "name": "Python [py34]"
  },
  "language_info": {
   "codemirror_mode": {
    "name": "ipython",
    "version": 3
   },
   "file_extension": ".py",
   "mimetype": "text/x-python",
   "name": "python",
   "nbconvert_exporter": "python",
   "pygments_lexer": "ipython3",
   "version": "3.4.5"
  }
 },
 "nbformat": 4,
 "nbformat_minor": 0
}
